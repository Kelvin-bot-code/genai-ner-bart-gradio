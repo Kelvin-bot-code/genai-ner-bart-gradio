{
 "cells": [
  {
   "cell_type": "code",
   "execution_count": 3,
   "id": "cb296636",
   "metadata": {
    "height": 1373
   },
   "outputs": [
    {
     "name": "stdout",
     "output_type": "stream",
     "text": [
      "Closing server running on port: 7863\n",
      "Closing server running on port: 7863\n",
      "Closing server running on port: 7862\n",
      "Running on local URL:  https://0.0.0.0:7863\n",
      "IMPORTANT: You are using gradio version 3.37.0, however version 4.44.1 is available, please upgrade.\n",
      "--------\n",
      "\n",
      "Could not create share link. Missing file: /usr/local/lib/python3.9/site-packages/gradio/frpc_linux_amd64_v0.2. \n",
      "\n",
      "Please check your internet connection. This can happen if your antivirus software blocks the download of this file. You can install manually by following these steps: \n",
      "\n",
      "1. Download this file: https://cdn-media.huggingface.co/frpc-gradio-0.2/frpc_linux_amd64\n",
      "2. Rename the downloaded file to: frpc_linux_amd64_v0.2\n",
      "3. Move the file to this location: /usr/local/lib/python3.9/site-packages/gradio\n"
     ]
    },
    {
     "data": {
      "text/html": [
       "<div><iframe src=\"https://s172-29-67-78p7863.lab-aws-production.deeplearning.ai/\" width=\"100%\" height=\"500\" allow=\"autoplay; camera; microphone; clipboard-read; clipboard-write;\" frameborder=\"0\" allowfullscreen></iframe></div>"
      ],
      "text/plain": [
       "<IPython.core.display.HTML object>"
      ]
     },
     "metadata": {},
     "output_type": "display_data"
    },
    {
     "data": {
      "text/plain": []
     },
     "execution_count": 3,
     "metadata": {},
     "output_type": "execute_result"
    }
   ],
   "source": [
    "import os\n",
    "import re\n",
    "import json\n",
    "import requests\n",
    "import gradio as gr\n",
    "from dotenv import load_dotenv, find_dotenv\n",
    "\n",
    "# Load environment variables\n",
    "_ = load_dotenv(find_dotenv())\n",
    "hf_api_key = os.environ['HF_API_KEY']\n",
    "API_URL = os.environ['HF_API_NER_BASE']\n",
    "\n",
    "# Call Hugging Face endpoint\n",
    "def get_completion(inputs, parameters=None, ENDPOINT_URL=API_URL): \n",
    "    headers = {\n",
    "        \"Authorization\": f\"Bearer {hf_api_key}\",\n",
    "        \"Content-Type\": \"application/json\"\n",
    "    }\n",
    "    data = {\"inputs\": inputs}\n",
    "    if parameters is not None:\n",
    "        data[\"parameters\"] = parameters\n",
    "\n",
    "    response = requests.post(ENDPOINT_URL, headers=headers, data=json.dumps(data))\n",
    "    return json.loads(response.content.decode(\"utf-8\"))\n",
    "\n",
    "# Merge tokens for full entities\n",
    "def merge_tokens(tokens):\n",
    "    merged_tokens = []\n",
    "    for token in tokens:\n",
    "        if merged_tokens and token['entity'].startswith('I-') and merged_tokens[-1]['entity'].endswith(token['entity'][2:]):\n",
    "            last_token = merged_tokens[-1]\n",
    "            last_token['word'] += token['word'].replace('##', '')\n",
    "            last_token['end'] = token['end']\n",
    "            last_token['score'] = (last_token['score'] + token['score']) / 2\n",
    "        else:\n",
    "            merged_tokens.append(token)\n",
    "    return merged_tokens\n",
    "\n",
    "# Find years (like 1900–2100)\n",
    "def find_years(text):\n",
    "    matches = re.finditer(r'\\b(1[89]\\d{2}|20\\d{2}|2100)\\b', text)\n",
    "    year_entities = []\n",
    "    for match in matches:\n",
    "        year_entities.append({\n",
    "            \"entity\": \"YEAR\",\n",
    "            \"word\": match.group(),\n",
    "            \"start\": match.start(),\n",
    "            \"end\": match.end(),\n",
    "            \"score\": 1.0\n",
    "        })\n",
    "    return year_entities\n",
    "\n",
    "# Final NER function\n",
    "def ner(input):\n",
    "    output = get_completion(input)\n",
    "    merged_tokens = merge_tokens(output)\n",
    "    year_tokens = find_years(input)\n",
    "    all_entities = merged_tokens + year_tokens\n",
    "    return {\"text\": input, \"entities\": all_entities}\n",
    "\n",
    "# Gradio Interface\n",
    "gr.close_all()\n",
    "demo = gr.Interface(\n",
    "    fn=ner,\n",
    "    inputs=[gr.Textbox(label=\"Text to find entities\", lines=2)],\n",
    "    outputs=[gr.HighlightedText(label=\"Text with entities\")],\n",
    "    title=\"NER with dslim/bert-base-NER + Year Detection\",\n",
    "    description=\"Find named entities and years (e.g., 1999, 2023) using the `dslim/bert-base-NER` model and regex.\",\n",
    "    allow_flagging=\"never\",\n",
    "    examples=[\n",
    "        \"My name is Andrew, I'm building DeeplearningAI and I live in California\",\n",
    "        \"Marie Curie won the Nobel Prize in Physics in 1903.\",\n",
    "        \"The company was founded in 2020 and expanded in 2023.\",\n",
    "        \"My name is Poli, I live in Vienna and work at HuggingFace\"\n",
    "    ]\n",
    ")\n",
    "\n",
    "demo.launch(share=True, server_port=int(os.environ['PORT4']))\n"
   ]
  },
  {
   "cell_type": "code",
   "execution_count": null,
   "id": "8d514a15",
   "metadata": {
    "height": 30
   },
   "outputs": [],
   "source": []
  }
 ],
 "metadata": {
  "kernelspec": {
   "display_name": "Python 3 (ipykernel)",
   "language": "python",
   "name": "python3"
  },
  "language_info": {
   "codemirror_mode": {
    "name": "ipython",
    "version": 3
   },
   "file_extension": ".py",
   "mimetype": "text/x-python",
   "name": "python",
   "nbconvert_exporter": "python",
   "pygments_lexer": "ipython3",
   "version": "3.9.19"
  }
 },
 "nbformat": 4,
 "nbformat_minor": 5
}
